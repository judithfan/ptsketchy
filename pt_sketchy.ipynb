{
 "cells": [
  {
   "cell_type": "code",
   "execution_count": 1,
   "metadata": {
    "collapsed": true
   },
   "outputs": [],
   "source": [
    "from __future__ import print_function\n",
    "\n",
    "import numpy as np\n",
    "from numpy import *\n",
    "\n",
    "import os\n",
    "\n",
    "import torch\n",
    "import torch.nn as nn\n",
    "from torch.autograd import Variable\n",
    "import torch.optim as optim\n",
    "\n",
    "import PIL\n",
    "from PIL import Image\n",
    "import matplotlib.pyplot as plt\n",
    "\n",
    "import torchvision.transforms as transforms\n",
    "import torchvision.models as models\n",
    "\n",
    "from skimage import data, io, filters\n",
    "\n",
    "from matplotlib.path import Path\n",
    "import matplotlib.patches as patches"
   ]
  },
  {
   "cell_type": "code",
   "execution_count": 2,
   "metadata": {
    "collapsed": true
   },
   "outputs": [],
   "source": [
    "use_cuda = torch.cuda.is_available()\n",
    "dtype = torch.cuda.FloatTensor if use_cuda else torch.FloatTensor"
   ]
  },
  {
   "cell_type": "code",
   "execution_count": 3,
   "metadata": {
    "collapsed": true
   },
   "outputs": [],
   "source": [
    "path_to_strokes =  \"tiny/airplane.npy\"\n",
    "X = np.load(path_to_strokes)[()]"
   ]
  },
  {
   "cell_type": "code",
   "execution_count": 4,
   "metadata": {},
   "outputs": [
    {
     "name": "stdout",
     "output_type": "stream",
     "text": [
      "Example sketch has  169  strokes\n",
      "Corresponds to photo:  n02691156_10151\n"
     ]
    }
   ],
   "source": [
    "print('Example sketch has ', str(shape(X['airplane'][0][0])[0]), ' strokes')\n",
    "print('Corresponds to photo: ', X['airplane'][1][0])\n",
    "\n",
    "path_to_source_photos = \"../tiny/photo/airplane/\"\n",
    "photo = os.path.join(path_to_source_photos,'n02691156_10151.jpg')"
   ]
  },
  {
   "cell_type": "code",
   "execution_count": 5,
   "metadata": {
    "collapsed": true
   },
   "outputs": [],
   "source": [
    "class TinyDataset(torch.utils.data.Dataset):\n",
    "    \"\"\"tiny airplane dataset of photos and sketches for pix2svg.\"\"\"\n",
    "\n",
    "    def __init__(self, npy_file, root_dir, transform=None):\n",
    "        \"\"\"\n",
    "        Args:\n",
    "            npy_file (string): Path to the numpy file with stroke-5 representation and corresponding photos.\n",
    "                    # to get stroke-5 representation of svg\n",
    "                    x['airplane'][0][5]\n",
    "                    # to get corresponding photos\n",
    "                    x['airplane'][1][5]\n",
    "            root_dir (string): Directory with all the images.\n",
    "            transform (callable, optional): Optional transform to be applied\n",
    "                on a sample.\n",
    "        \"\"\"\n",
    "        self.root_dir = root_dir\n",
    "        self.stroke_dir = npy_file\n",
    "        self.photo_dir = os.path.join(root_dir,'photo')\n",
    "        self.strokes = np.load(npy_file)[()]\n",
    "        self.transform = transform\n",
    "    \n",
    "    def __len__(self):\n",
    "        return len(self.strokes['airplane'][0])\n",
    "\n",
    "    def __getitem__(self, idx):\n",
    "        img_name = os.path.join(self.photo_dir,'airplane',X['airplane'][1][idx]+ '.jpg')\n",
    "        photo = io.imread(img_name)\n",
    "        photo = np.reshape(photo,(3,256,256)) # reshape to what pytorch expects\n",
    "        strokes = self.strokes['airplane'][0][idx]\n",
    "        sample = {'photo': photo, 'strokes': strokes,'name': X['airplane'][1][idx]+ '.jpg'}\n",
    "        \n",
    "        if self.transform:\n",
    "            sample = self.transform(sample)\n",
    "\n",
    "        return sample    \n",
    "\n",
    "def to_normal_strokes(big_stroke):\n",
    "    \"\"\"Convert from stroke-5 format (from sketch-rnn paper) back to stroke-3.\"\"\"\n",
    "    l = 0\n",
    "    for i in range(len(big_stroke)):\n",
    "        if big_stroke[i, 4] > 0:\n",
    "            l = i\n",
    "            break\n",
    "    if l == 0:\n",
    "        l = len(big_stroke)\n",
    "    result = np.zeros((l, 3))\n",
    "    result[:, 0:2] = big_stroke[0:l, 0:2]\n",
    "    result[:, 2] = big_stroke[0:l, 3]\n",
    "    return result    \n",
    "    \n",
    "def strokes_to_lines(strokes):\n",
    "    \"\"\"\n",
    "    Convert stroke-3 format to polyline format.\n",
    "    List contains sublist of continuous line segments (strokes).    \n",
    "    \"\"\"\n",
    "    x = 0\n",
    "    y = 0\n",
    "    lines = []\n",
    "    line = []\n",
    "    for i in range(len(strokes)):\n",
    "        if strokes[i, 2] == 1:\n",
    "            x += float(strokes[i, 0])\n",
    "            y += float(strokes[i, 1])\n",
    "            line.append([x, y])\n",
    "            lines.append(line)\n",
    "            line = []\n",
    "        else:\n",
    "            x += float(strokes[i, 0])\n",
    "            y += float(strokes[i, 1])\n",
    "            line.append([x, y])\n",
    "    return lines\n",
    "\n",
    "def polyline_pathmaker(lines):\n",
    "    x = []\n",
    "    y = []\n",
    "\n",
    "    codes = [Path.MOVETO] # start with moveto command always\n",
    "    for i,l in enumerate(lines):\n",
    "        for _i,_l in enumerate(l):\n",
    "            x.append(_l[0])\n",
    "            y.append(_l[1])\n",
    "            if _i<len(l)-1:\n",
    "                codes.append(Path.LINETO) # keep pen on page\n",
    "            else:\n",
    "                if i != len(lines)-1: # final vertex\n",
    "                    codes.append(Path.MOVETO)\n",
    "    verts = zip(x,y)            \n",
    "    return verts, codes\n",
    "\n",
    "def path_renderer(verts, codes):\n",
    "    path = Path(verts, codes)\n",
    "    patch = patches.PathPatch(path, facecolor='none', lw=2)\n",
    "    ax.add_patch(patch)\n",
    "    ax.set_xlim(0,max(max(verts)))\n",
    "    ax.set_ylim(0,max(max(verts)))\n",
    "    ax.axis('off')\n",
    "    plt.gca().invert_yaxis() # y values increase as you go down in image\n",
    "    plt.show()"
   ]
  },
  {
   "cell_type": "code",
   "execution_count": 7,
   "metadata": {},
   "outputs": [],
   "source": [
    "## load in airplanes dataset\n",
    "airplanes = TinyDataset(npy_file='/home/jefan/ptsketchy/tiny/airplane.npy',root_dir='/home/jefan/ptsketchy/tiny',transform=None)"
   ]
  },
  {
   "cell_type": "code",
   "execution_count": 8,
   "metadata": {},
   "outputs": [
    {
     "name": "stdout",
     "output_type": "stream",
     "text": [
      "405 (3, 256, 256) (51, 5)\n"
     ]
    },
    {
     "data": {
      "image/png": "[encoded data removed]",
      "text/plain": [
       "<matplotlib.figure.Figure at 0x7feaa0b67610>"
      ]
     },
     "metadata": {},
     "output_type": "display_data"
    }
   ],
   "source": [
    "## display given photo and corresponding sketch from stroke-5 representation\n",
    "i = 405\n",
    "sample = airplanes[i]\n",
    "print(i, sample['photo'].shape, sample['strokes'].shape)\n",
    "\n",
    "plt.figure()\n",
    "ax = plt.subplot(121)\n",
    "ax.set_title(sample['name'])\n",
    "ax.axis('off')\n",
    "img = np.reshape(sample['photo'],(256,256,3))\n",
    "plt.imshow(img,interpolation='nearest')\n",
    "\n",
    "ax = plt.subplot(122)\n",
    "lines = strokes_to_lines(to_normal_strokes(sample['strokes']))\n",
    "verts,codes = polyline_pathmaker(lines)\n",
    "path_renderer(verts,codes)\n",
    "\n",
    "plt.show()"
   ]
  },
  {
   "cell_type": "code",
   "execution_count": null,
   "metadata": {
    "collapsed": true
   },
   "outputs": [],
   "source": []
  },
  {
   "cell_type": "code",
   "execution_count": null,
   "metadata": {
    "collapsed": true
   },
   "outputs": [],
   "source": []
  },
  {
   "cell_type": "code",
   "execution_count": null,
   "metadata": {
    "collapsed": true
   },
   "outputs": [],
   "source": []
  },
  {
   "cell_type": "code",
   "execution_count": null,
   "metadata": {
    "collapsed": true
   },
   "outputs": [],
   "source": []
  },
  {
   "cell_type": "markdown",
   "metadata": {},
   "source": [
    "All pre-trained models expect input images normalized in the same way, i.e. mini-batches of 3-channel RGB images of shape (3 x H x W), where H and W are expected to be atleast 224.\n",
    "\n",
    "The images have to be loaded in to a range of [0, 1] and then normalized using mean=[0.485, 0.456, 0.406] and std=[0.229, 0.224, 0.225]"
   ]
  },
  {
   "cell_type": "code",
   "execution_count": null,
   "metadata": {
    "collapsed": true
   },
   "outputs": [],
   "source": [
    "## load in airplanes dataset\n",
    "airplanes = TinyDataset(npy_file='/home/jefan/ptsketchy/tiny/airplane.npy',\n",
    "                        root_dir='/home/jefan/ptsketchy/tiny',\n",
    "                        transform=None)"
   ]
  },
  {
   "cell_type": "code",
   "execution_count": null,
   "metadata": {
    "collapsed": true
   },
   "outputs": [],
   "source": [
    "# Data loading code\n",
    "traindir = os.path.join(args.data, 'train')\n",
    "valdir = os.path.join(args.data, 'val')\n",
    "normalize = transforms.Normalize(mean=[0.485, 0.456, 0.406],\n",
    "                                 std=[0.229, 0.224, 0.225])\n",
    "\n",
    "val_loader = torch.utils.data.DataLoader(\n",
    "    datasets.ImageFolder(valdir, transforms.Compose([\n",
    "        transforms.Scale(256),\n",
    "        transforms.CenterCrop(224),\n",
    "        transforms.ToTensor(),\n",
    "        normalize,\n",
    "    ])),\n",
    "    batch_size=args.batch_size, shuffle=False,\n",
    "    num_workers=args.workers, pin_memory=True)"
   ]
  },
  {
   "cell_type": "code",
   "execution_count": 6,
   "metadata": {
    "collapsed": true
   },
   "outputs": [],
   "source": [
    "model = models.alexnet(pretrained=True)"
   ]
  },
  {
   "cell_type": "code",
   "execution_count": 7,
   "metadata": {
    "collapsed": true
   },
   "outputs": [],
   "source": [
    "new_classifier = nn.Sequential(*list(model.classifier.children())[:-1])\n",
    "model.classifier = new_classifier"
   ]
  },
  {
   "cell_type": "code",
   "execution_count": 8,
   "metadata": {},
   "outputs": [
    {
     "data": {
      "text/plain": [
       "AlexNet (\n",
       "  (features): Sequential (\n",
       "    (0): Conv2d(3, 64, kernel_size=(11, 11), stride=(4, 4), padding=(2, 2))\n",
       "    (1): ReLU (inplace)\n",
       "    (2): MaxPool2d (size=(3, 3), stride=(2, 2), dilation=(1, 1))\n",
       "    (3): Conv2d(64, 192, kernel_size=(5, 5), stride=(1, 1), padding=(2, 2))\n",
       "    (4): ReLU (inplace)\n",
       "    (5): MaxPool2d (size=(3, 3), stride=(2, 2), dilation=(1, 1))\n",
       "    (6): Conv2d(192, 384, kernel_size=(3, 3), stride=(1, 1), padding=(1, 1))\n",
       "    (7): ReLU (inplace)\n",
       "    (8): Conv2d(384, 256, kernel_size=(3, 3), stride=(1, 1), padding=(1, 1))\n",
       "    (9): ReLU (inplace)\n",
       "    (10): Conv2d(256, 256, kernel_size=(3, 3), stride=(1, 1), padding=(1, 1))\n",
       "    (11): ReLU (inplace)\n",
       "    (12): MaxPool2d (size=(3, 3), stride=(2, 2), dilation=(1, 1))\n",
       "  )\n",
       "  (classifier): Sequential (\n",
       "    (0): Dropout (p = 0.5)\n",
       "    (1): Linear (9216 -> 4096)\n",
       "    (2): ReLU (inplace)\n",
       "    (3): Dropout (p = 0.5)\n",
       "    (4): Linear (4096 -> 4096)\n",
       "    (5): ReLU (inplace)\n",
       "  )\n",
       ")"
      ]
     },
     "execution_count": 8,
     "metadata": {},
     "output_type": "execute_result"
    }
   ],
   "source": [
    "model"
   ]
  },
  {
   "cell_type": "code",
   "execution_count": 9,
   "metadata": {
    "collapsed": true
   },
   "outputs": [],
   "source": [
    "net = models.alexnet(pretrained=True).features\n",
    "\n",
    "class FeatureExtractor(nn.Module):\n",
    "    def __init__(self, submodule, extracted_layers):\n",
    "        self.submodule = submodule\n",
    "\n",
    "    def forward(self, x):\n",
    "        outputs = []\n",
    "        for name, module in self.submodule._modules.items():\n",
    "            x = module(x)\n",
    "            if name in self.extracted_layers:\n",
    "                outputs += [x]\n",
    "        return outputs + [x]\n",
    "\n",
    "new_net = nn.Sequential().cuda() # the new network\n",
    "other_net = nn.Sequential().cuda() # another network\n",
    "\n",
    "\n",
    "target_layers = ['conv_1', 'conv_2', 'conv_4'] # layers you want to extract`\n",
    "\n",
    "# i = 1\n",
    "# for layer in list(net):\n",
    "#     if isinstance(layer,nn.Conv2d):\n",
    "#         name = \"conv_\"+str(i)\n",
    "#         new_net.add_module(name,layer)\n",
    "\n",
    "#         if name in target_layers:\n",
    "#             other_net.add_module(\"extractor_\"+str(i),FeatureExtractor())\n",
    "\n",
    "#         i+=1\n",
    "\n",
    "#     if isinstance(layer,nn.ReLU):\n",
    "#         name = \"relu_\"+str(i)\n",
    "#         new_net.add_module(name,layer)\n",
    "\n",
    "#     if isinstance(layer,nn.MaxPool2d):\n",
    "#         name = \"pool_\"+str(i)"
   ]
  },
  {
   "cell_type": "code",
   "execution_count": 10,
   "metadata": {},
   "outputs": [
    {
     "data": {
      "text/plain": [
       "OrderedDict()"
      ]
     },
     "execution_count": 10,
     "metadata": {},
     "output_type": "execute_result"
    }
   ],
   "source": [
    "new_net._modules"
   ]
  },
  {
   "cell_type": "code",
   "execution_count": 11,
   "metadata": {
    "collapsed": true
   },
   "outputs": [],
   "source": [
    "import torch\n",
    "import torch.nn as nn\n",
    "from torchvision import models\n",
    "\n",
    "original_model = models.alexnet(pretrained=True)\n",
    "\n",
    "class AlexNetConv4(nn.Module):\n",
    "            def __init__(self):\n",
    "                super(AlexNetConv4, self).__init__()\n",
    "                self.features = nn.Sequential(\n",
    "                    # stop at conv4\n",
    "                    *list(original_model.features.children())[:-3]\n",
    "                )\n",
    "            def forward(self, x):\n",
    "                x = self.features(x)\n",
    "                return x\n",
    "\n",
    "model = AlexNetConv4()"
   ]
  },
  {
   "cell_type": "code",
   "execution_count": 12,
   "metadata": {},
   "outputs": [
    {
     "data": {
      "text/plain": [
       "AlexNetConv4 (\n",
       "  (features): Sequential (\n",
       "    (0): Conv2d(3, 64, kernel_size=(11, 11), stride=(4, 4), padding=(2, 2))\n",
       "    (1): ReLU (inplace)\n",
       "    (2): MaxPool2d (size=(3, 3), stride=(2, 2), dilation=(1, 1))\n",
       "    (3): Conv2d(64, 192, kernel_size=(5, 5), stride=(1, 1), padding=(2, 2))\n",
       "    (4): ReLU (inplace)\n",
       "    (5): MaxPool2d (size=(3, 3), stride=(2, 2), dilation=(1, 1))\n",
       "    (6): Conv2d(192, 384, kernel_size=(3, 3), stride=(1, 1), padding=(1, 1))\n",
       "    (7): ReLU (inplace)\n",
       "    (8): Conv2d(384, 256, kernel_size=(3, 3), stride=(1, 1), padding=(1, 1))\n",
       "    (9): ReLU (inplace)\n",
       "  )\n",
       ")"
      ]
     },
     "execution_count": 12,
     "metadata": {},
     "output_type": "execute_result"
    }
   ],
   "source": [
    "model.forward()"
   ]
  },
  {
   "cell_type": "code",
   "execution_count": null,
   "metadata": {
    "collapsed": true
   },
   "outputs": [],
   "source": []
  }
 ],
 "metadata": {
  "kernelspec": {
   "display_name": "Python 2",
   "language": "python",
   "name": "python2"
  },
  "language_info": {
   "codemirror_mode": {
    "name": "ipython",
    "version": 2
   },
   "file_extension": ".py",
   "mimetype": "text/x-python",
   "name": "python",
   "nbconvert_exporter": "python",
   "pygments_lexer": "ipython2",
   "version": "2.7.12"
  }
 },
 "nbformat": 4,
 "nbformat_minor": 2
}
